{
 "cells": [
  {
   "cell_type": "markdown",
   "metadata": {},
   "source": [
    "# Home Work1 "
   ]
  },
  {
   "cell_type": "markdown",
   "metadata": {},
   "source": [
    "# b"
   ]
  },
  {
   "cell_type": "code",
   "execution_count": 1,
   "metadata": {},
   "outputs": [
    {
     "name": "stdout",
     "output_type": "stream",
     "text": [
      "Iteration 1: x = [ 0.98039216  0.5245098  -0.58905229 -0.80263772  1.77543893]\n",
      "Iteration 2: x = [ 0.2131753  -0.23305649 -0.75176019 -1.00710005  1.207496  ]\n",
      "Iteration 3: x = [ 0.17071671 -0.17348618 -0.88978256 -0.8755027   1.22126402]\n",
      "Iteration 4: x = [ 0.2157416  -0.24481375 -0.87126875 -0.86284441  1.2301333 ]\n",
      "Iteration 5: x = [ 0.1806617  -0.23865116 -0.85226604 -0.85941315  1.20698039]\n",
      "Iteration 6: x = [ 0.18843195 -0.22316732 -0.85512005 -0.85873973  1.21514678]\n",
      "Iteration 7: x = [ 0.19186115 -0.22655019 -0.85529855 -0.86062184  1.21653565]\n",
      "Iteration 8: x = [ 0.19002488 -0.22703256 -0.85513214 -0.86059474  1.21532828]\n",
      "Iteration 9: x = [ 0.19027656 -0.22664122 -0.8553472  -0.86042827  1.21559523]\n",
      "Iteration 10: x = [ 0.19036751 -0.22681322 -0.85530772 -0.86046275  1.21560726]\n",
      "Final solution after 10 iterations: [ 0.19036751 -0.22681322 -0.85530772 -0.86046275  1.21560726]\n"
     ]
    }
   ],
   "source": [
    "import numpy as np\n",
    "\n",
    "def gauss_seidel_10_iterations(A, b, x0, max_iterations=10):\n",
    "    n = len(b)\n",
    "    x = x0.copy()\n",
    "    for iteration in range(max_iterations):\n",
    "        x_new = x.copy()\n",
    "        for i in range(n):\n",
    "            sum1 = sum(A[i][j] * x_new[j] for j in range(i))\n",
    "            sum2 = sum(A[i][j] * x[j] for j in range(i + 1, n))\n",
    "            x_new[i] = (b[i] - sum1 - sum2) / A[i][i]\n",
    "        x = x_new\n",
    "        print(f\"Iteration {iteration + 1}: x = {x}\")\n",
    "    return x\n",
    "\n",
    "# Define matrix A and vector b based on the given system\n",
    "A = np.array([\n",
    "    [5.1, -2, 1, 0, 2],\n",
    "    [-0.1, 4, -2, 0, 1],\n",
    "    [2.1, -1, 6, -2, -1],\n",
    "    [-1, -2, 1, -7, -2],\n",
    "    [-3, -1, 1, 0, 5.1]\n",
    "], dtype=float)\n",
    "\n",
    "b = np.array([3, 2, -4, 3, 5], dtype=float)\n",
    "x0 = np.array([0, 1, 0, 1, 0], dtype=float)\n",
    "\n",
    "# Run the Gauss-Seidel method\n",
    "solution = gauss_seidel_10_iterations(A, b, x0)\n",
    "print(\"Final solution after 10 iterations:\", solution)\n"
   ]
  },
  {
   "cell_type": "markdown",
   "metadata": {},
   "source": []
  },
  {
   "cell_type": "code",
   "execution_count": 2,
   "metadata": {},
   "outputs": [
    {
     "name": "stdout",
     "output_type": "stream",
     "text": [
      "Iteration 1: x = [ 0.98039216  0.5        -0.16666667 -0.71428571  1.17647059]\n",
      "Iteration 2: x = [ 0.35563245  0.14705882 -0.96848739 -1.07142857  1.68781238]\n",
      "Iteration 3: x = [ 0.1739177  -0.39730598 -0.84246901 -1.14198032  1.40832227]\n",
      "Iteration 4: x = [ 0.04533579 -0.26896713 -0.93969526 -0.86263133  1.16998356]\n",
      "Iteration 5: x = [ 0.20819488 -0.26121012 -0.81990856 -0.82672341  1.13857559]\n",
      "Iteration 6: x = [ 0.20006611 -0.18939331 -0.86888177 -0.8261192   1.21240845]\n",
      "Iteration 7: x = [ 0.20887809 -0.23254134 -0.84156035 -0.87356831  1.23131113]\n",
      "Iteration 8: x = [ 0.17918733 -0.223386   -0.8645018  -0.86399686  1.22267711]\n",
      "Iteration 9: x = [ 0.19066188 -0.2334405  -0.85083267 -0.86318162  1.21150545]\n",
      "Iteration 10: x = [ 0.18841976 -0.22352615 -0.8581147  -0.85680349  1.21360349]\n",
      "Final solution after 10 iterations: [ 0.18841976 -0.22352615 -0.8581147  -0.85680349  1.21360349]\n"
     ]
    }
   ],
   "source": [
    "import numpy as np\n",
    "\n",
    "def jacobi_method(A, b, x0, max_iterations=10):\n",
    "    n = len(b)\n",
    "    x = x0.copy()\n",
    "    for iteration in range(max_iterations):\n",
    "        x_new = np.zeros_like(x)\n",
    "        for i in range(n):\n",
    "            sum1 = sum(A[i][j] * x[j] for j in range(n) if j != i)\n",
    "            x_new[i] = (b[i] - sum1) / A[i][i]\n",
    "        x = x_new\n",
    "        print(f\"Iteration {iteration + 1}: x = {x}\")\n",
    "    return x\n",
    "\n",
    "# Define matrix A and vector b based on the given system\n",
    "A = np.array([\n",
    "    [5.1, -2, 1, 0, 2],\n",
    "    [-0.1, 4, -2, 0, 1],\n",
    "    [2.1, -1, 6, -2, -1],\n",
    "    [-1, -2, 1, -7, -2],\n",
    "    [-3, -1, 1, 0, 5.1]\n",
    "], dtype=float)\n",
    "\n",
    "b = np.array([3, 2, -4, 3, 5], dtype=float)\n",
    "x0 = np.array([0, 1, 0, 1, 0], dtype=float)\n",
    "\n",
    "# Run the Jacobi method\n",
    "solution = jacobi_method(A, b, x0)\n",
    "print(\"Final solution after 10 iterations:\", solution)\n"
   ]
  },
  {
   "cell_type": "code",
   "execution_count": null,
   "metadata": {},
   "outputs": [],
   "source": []
  }
 ],
 "metadata": {
  "kernelspec": {
   "display_name": "Python 3",
   "language": "python",
   "name": "python3"
  },
  "language_info": {
   "codemirror_mode": {
    "name": "ipython",
    "version": 3
   },
   "file_extension": ".py",
   "mimetype": "text/x-python",
   "name": "python",
   "nbconvert_exporter": "python",
   "pygments_lexer": "ipython3",
   "version": "3.9.6"
  }
 },
 "nbformat": 4,
 "nbformat_minor": 2
}
