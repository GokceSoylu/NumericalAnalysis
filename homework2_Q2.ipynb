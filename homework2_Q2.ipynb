{
 "cells": [
  {
   "cell_type": "code",
   "execution_count": 1,
   "metadata": {},
   "outputs": [
    {
     "name": "stdout",
     "output_type": "stream",
     "text": [
      "Yaklaşık Çözüm: 1.32031\n",
      "İterasyon Sayısı: 7\n"
     ]
    }
   ],
   "source": [
    "import math\n",
    "\n",
    "def f(x):\n",
    "    return x**3 - math.sqrt(3)*x\n",
    "\n",
    "def bisection_method(a, b, tol=1e-2):\n",
    "    n = 0\n",
    "    while abs(b - a) > tol:\n",
    "        c = (a + b) / 2\n",
    "        n += 1\n",
    "        if f(c) == 0 or (b - a) < tol:\n",
    "            break\n",
    "        elif f(a) * f(c) < 0:\n",
    "            b = c\n",
    "        else:\n",
    "            a = c\n",
    "    return c, n\n",
    "\n",
    "# Aralık [1, 2]\n",
    "a, b = 1, 2\n",
    "solution, iterations = bisection_method(a, b)\n",
    "\n",
    "print(\"Yaklaşık Çözüm: {:.5f}\".format(solution))\n",
    "print(\"İterasyon Sayısı:\", iterations)\n"
   ]
  },
  {
   "cell_type": "code",
   "execution_count": null,
   "metadata": {},
   "outputs": [],
   "source": []
  }
 ],
 "metadata": {
  "kernelspec": {
   "display_name": "Python 3",
   "language": "python",
   "name": "python3"
  },
  "language_info": {
   "codemirror_mode": {
    "name": "ipython",
    "version": 3
   },
   "file_extension": ".py",
   "mimetype": "text/x-python",
   "name": "python",
   "nbconvert_exporter": "python",
   "pygments_lexer": "ipython3",
   "version": "3.9.6"
  }
 },
 "nbformat": 4,
 "nbformat_minor": 2
}
