{
 "cells": [
  {
   "cell_type": "code",
   "execution_count": 1,
   "metadata": {},
   "outputs": [
    {
     "name": "stdout",
     "output_type": "stream",
     "text": [
      "Yaklaşık Çözüm: 0.58594\n",
      "İterasyon Sayısı: 3\n",
      "\n",
      "Yaklaşık Çözüm (Bisection): 1.32031\n",
      "İterasyon Sayısı (Bisection): 7\n"
     ]
    }
   ],
   "source": [
    "# Soru 1: Newton Yöntemi\n",
    "import math\n",
    "\n",
    "def f(x):\n",
    "    return math.exp(x) + x**2 - 2.14\n",
    "\n",
    "def f_prime(x):\n",
    "    return math.exp(x) + 2*x\n",
    "\n",
    "def newton_method(x0, tol=1e-3):\n",
    "    n = 0\n",
    "    while True:\n",
    "        x1 = x0 - f(x0) / f_prime(x0)\n",
    "        n += 1\n",
    "        if abs(x1 - x0) < tol:\n",
    "            break\n",
    "        x0 = x1\n",
    "    return x1, n\n",
    "\n",
    "# Başlangıç değeri\n",
    "x0 = 0.5\n",
    "solution, iterations = newton_method(x0)\n",
    "\n",
    "print(\"Yaklaşık Çözüm: {:.5f}\".format(solution))\n",
    "print(\"İterasyon Sayısı:\", iterations)\n",
    "\n",
    "# Soru 2: Bisection (Yarıya Bölme) Yöntemi\n",
    "def f_bisect(x):\n",
    "    return x**3 - math.sqrt(3)*x\n",
    "\n",
    "def bisection_method(a, b, tol=1e-2):\n",
    "    n = 0\n",
    "    while abs(b - a) > tol:\n",
    "        c = (a + b) / 2\n",
    "        n += 1\n",
    "        if f_bisect(c) == 0 or (b - a) < tol:\n",
    "            break\n",
    "        elif f_bisect(a) * f_bisect(c) < 0:\n",
    "            b = c\n",
    "        else:\n",
    "            a = c\n",
    "    return c, n\n",
    "\n",
    "# Aralık [1, 2]\n",
    "a, b = 1, 2\n",
    "solution_bisect, iterations_bisect = bisection_method(a, b)\n",
    "\n",
    "print(\"\\nYaklaşık Çözüm (Bisection): {:.5f}\".format(solution_bisect))\n",
    "print(\"İterasyon Sayısı (Bisection):\", iterations_bisect)\n"
   ]
  },
  {
   "cell_type": "code",
   "execution_count": null,
   "metadata": {},
   "outputs": [],
   "source": []
  }
 ],
 "metadata": {
  "kernelspec": {
   "display_name": "Python 3",
   "language": "python",
   "name": "python3"
  },
  "language_info": {
   "codemirror_mode": {
    "name": "ipython",
    "version": 3
   },
   "file_extension": ".py",
   "mimetype": "text/x-python",
   "name": "python",
   "nbconvert_exporter": "python",
   "pygments_lexer": "ipython3",
   "version": "3.9.6"
  }
 },
 "nbformat": 4,
 "nbformat_minor": 2
}
