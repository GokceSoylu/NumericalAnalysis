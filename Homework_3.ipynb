{
 "cells": [
  {
   "cell_type": "code",
   "execution_count": 4,
   "metadata": {},
   "outputs": [
    {
     "data": {
      "text/plain": [
       "[(1, np.float64(0.5719511429084349)),\n",
       " (2, np.float64(0.5719086562942408)),\n",
       " (3, np.float64(0.5719064857406432)),\n",
       " (4, np.float64(0.5719061236799081)),\n",
       " (5, np.float64(0.5719060250547349)),\n",
       " (6, np.float64(0.5719059896832631)),\n",
       " (7, np.float64(0.5719059745334047)),\n",
       " (8, np.float64(0.5719059671843498))]"
      ]
     },
     "execution_count": 4,
     "metadata": {},
     "output_type": "execute_result"
    }
   ],
   "source": [
    "# Define the Composite Simpson's Rule implementation\n",
    "def composite_simpsons_rule(f, a, b, M):\n",
    "    \"\"\"\n",
    "    Composite Simpson's Rule for numerical integration.\n",
    "    \n",
    "    Parameters:\n",
    "    - f: function to integrate\n",
    "    - a, b: limits of integration\n",
    "    - M: number of subintervals (M must be a positive integer)\n",
    "    \n",
    "    Returns:\n",
    "    - Approximate value of the integral\n",
    "    \"\"\"\n",
    "    if M <= 0:\n",
    "        raise ValueError(\"M must be a positive integer.\")\n",
    "    \n",
    "    h = (b - a) / (2 * M)  # Step size\n",
    "    x_points = np.linspace(a, b, 2 * M + 1)\n",
    "    y_points = f(x_points)\n",
    "    \n",
    "    integral = h / 3 * (y_points[0] + \n",
    "                        4 * sum(y_points[1:2 * M:2]) + \n",
    "                        2 * sum(y_points[2:2 * M - 1:2]) + \n",
    "                        y_points[-1])\n",
    "    return integral\n",
    "\n",
    "# Define the function for numerical computation\n",
    "def numerical_function(x):\n",
    "    return x / np.sqrt(x**2 + 44)\n",
    "\n",
    "# Integration parameters\n",
    "a, b = 1, 3\n",
    "\n",
    "# Compute the approximate values for M = 1 to 8\n",
    "results = []\n",
    "for M in range(1, 9):\n",
    "    approx = composite_simpsons_rule(numerical_function, a, b, M)\n",
    "    results.append((M, approx))\n",
    "\n",
    "# Prepare the results\n",
    "results\n"
   ]
  },
  {
   "cell_type": "code",
   "execution_count": 2,
   "metadata": {},
   "outputs": [
    {
     "name": "stdout",
     "output_type": "stream",
     "text": [
      "Defaulting to user installation because normal site-packages is not writeable\n",
      "Collecting sympy\n",
      "  Downloading sympy-1.13.3-py3-none-any.whl.metadata (12 kB)\n",
      "Collecting mpmath<1.4,>=1.1.0 (from sympy)\n",
      "  Downloading mpmath-1.3.0-py3-none-any.whl.metadata (8.6 kB)\n",
      "Downloading sympy-1.13.3-py3-none-any.whl (6.2 MB)\n",
      "\u001b[2K   \u001b[90m━━━━━━━━━━━━━━━━━━━━━━━━━━━━━━━━━━━━━━━━\u001b[0m \u001b[32m6.2/6.2 MB\u001b[0m \u001b[31m20.8 kB/s\u001b[0m eta \u001b[36m0:00:00\u001b[0ma \u001b[36m0:00:08\u001b[0mm\n",
      "\u001b[?25hDownloading mpmath-1.3.0-py3-none-any.whl (536 kB)\n",
      "\u001b[2K   \u001b[90m━━━━━━━━━━━━━━━━━━━━━━━━━━━━━━━━━━━━━━━━\u001b[0m \u001b[32m536.2/536.2 kB\u001b[0m \u001b[31m31.5 kB/s\u001b[0m eta \u001b[36m0:00:00\u001b[0m:--:--\u001b[0m\n",
      "\u001b[?25hInstalling collected packages: mpmath, sympy\n",
      "Successfully installed mpmath-1.3.0 sympy-1.13.3\n",
      "\n",
      "\u001b[1m[\u001b[0m\u001b[34;49mnotice\u001b[0m\u001b[1;39;49m]\u001b[0m\u001b[39;49m A new release of pip is available: \u001b[0m\u001b[31;49m24.2\u001b[0m\u001b[39;49m -> \u001b[0m\u001b[32;49m24.3.1\u001b[0m\n",
      "\u001b[1m[\u001b[0m\u001b[34;49mnotice\u001b[0m\u001b[1;39;49m]\u001b[0m\u001b[39;49m To update, run: \u001b[0m\u001b[32;49m/Library/Developer/CommandLineTools/usr/bin/python3 -m pip install --upgrade pip\u001b[0m\n",
      "Note: you may need to restart the kernel to use updated packages.\n"
     ]
    }
   ],
   "source": [
    "pip install sympy"
   ]
  },
  {
   "cell_type": "code",
   "execution_count": null,
   "metadata": {},
   "outputs": [],
   "source": []
  }
 ],
 "metadata": {
  "kernelspec": {
   "display_name": "Python 3",
   "language": "python",
   "name": "python3"
  },
  "language_info": {
   "codemirror_mode": {
    "name": "ipython",
    "version": 3
   },
   "file_extension": ".py",
   "mimetype": "text/x-python",
   "name": "python",
   "nbconvert_exporter": "python",
   "pygments_lexer": "ipython3",
   "version": "3.9.6"
  }
 },
 "nbformat": 4,
 "nbformat_minor": 2
}
